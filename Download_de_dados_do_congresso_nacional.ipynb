{
  "nbformat": 4,
  "nbformat_minor": 0,
  "metadata": {
    "colab": {
      "name": "Download de dados do congresso nacional.ipynb",
      "provenance": [],
      "collapsed_sections": [],
      "include_colab_link": true
    },
    "kernelspec": {
      "name": "python3",
      "display_name": "Python 3"
    }
  },
  "cells": [
    {
      "cell_type": "markdown",
      "metadata": {
        "id": "view-in-github",
        "colab_type": "text"
      },
      "source": [
        "<a href=\"https://colab.research.google.com/github/JoanaEnes/Joanateste/blob/main/Download_de_dados_do_congresso_nacional.ipynb\" target=\"_parent\"><img src=\"https://colab.research.google.com/assets/colab-badge.svg\" alt=\"Open In Colab\"/></a>"
      ]
    },
    {
      "cell_type": "markdown",
      "metadata": {
        "id": "3mFpqVN9EuQH"
      },
      "source": [
        "# Iremos Baixar a lista de deputados brasileiros\n",
        "\n",
        "Iremos utilizar o módulo `requests` para executar essa atividade"
      ]
    },
    {
      "cell_type": "code",
      "metadata": {
        "id": "skHByPA2929a"
      },
      "source": [
        "import requests"
      ],
      "execution_count": null,
      "outputs": []
    },
    {
      "cell_type": "markdown",
      "metadata": {
        "id": "SzyuvX8IE9rT"
      },
      "source": [
        "Iremos acessar a API \"Dados Abertos\" utilizando método **get**, vou recuperar a resposta como um text e converter para dicionário usando o módulo `json` e o método **loads**\n"
      ]
    },
    {
      "cell_type": "code",
      "metadata": {
        "id": "r6FvuCPEESgn"
      },
      "source": [
        "URL = \"http://apidatalake.tesouro.gov.br/ords/sadipem/tt/pvl?uf=RJ&tipo_interessado=Estado\"\n",
        "response = requests.get(URL)"
      ],
      "execution_count": null,
      "outputs": []
    },
    {
      "cell_type": "code",
      "metadata": {
        "colab": {
          "base_uri": "https://localhost:8080/",
          "height": 163
        },
        "id": "edofed55HoH6",
        "outputId": "0778aa62-b08a-4c9e-8e15-fe1c41f20582"
      },
      "source": [
        "response.text"
      ],
      "execution_count": null,
      "outputs": [
        {
          "output_type": "error",
          "ename": "NameError",
          "evalue": "ignored",
          "traceback": [
            "\u001b[0;31m---------------------------------------------------------------------------\u001b[0m",
            "\u001b[0;31mNameError\u001b[0m                                 Traceback (most recent call last)",
            "\u001b[0;32m<ipython-input-1-95cf7eee0132>\u001b[0m in \u001b[0;36m<module>\u001b[0;34m()\u001b[0m\n\u001b[0;32m----> 1\u001b[0;31m \u001b[0mresponse\u001b[0m\u001b[0;34m.\u001b[0m\u001b[0mtext\u001b[0m\u001b[0;34m\u001b[0m\u001b[0;34m\u001b[0m\u001b[0m\n\u001b[0m",
            "\u001b[0;31mNameError\u001b[0m: name 'response' is not defined"
          ]
        }
      ]
    },
    {
      "cell_type": "code",
      "metadata": {
        "id": "Drhx-VJ9Fn1I"
      },
      "source": [
        "string_json = response.text"
      ],
      "execution_count": null,
      "outputs": []
    },
    {
      "cell_type": "code",
      "metadata": {
        "id": "AkMb-y9CFyKC"
      },
      "source": [
        "import json\n",
        "data = json.loads(string_json)"
      ],
      "execution_count": null,
      "outputs": []
    },
    {
      "cell_type": "markdown",
      "metadata": {
        "id": "WMiCb2ffGvmy"
      },
      "source": [
        "Iremos acessar a API \"Dados Abertos\" utilizando método **get**, vou recuperar a resposta como um json através do método **json**"
      ]
    },
    {
      "cell_type": "code",
      "metadata": {
        "id": "UnULK_CsF8UW"
      },
      "source": [
        "response = requests.get(URL)\n",
        "data = response.json() \n",
        "type(data)"
      ],
      "execution_count": null,
      "outputs": []
    },
    {
      "cell_type": "code",
      "metadata": {
        "colab": {
          "base_uri": "https://localhost:8080/"
        },
        "id": "2eoaS-GgF9B1",
        "outputId": "0ad5c38b-675c-48e4-ace8-ce9d73c95634"
      },
      "source": [
        "deputados = data['dados']\n",
        "print(f\"O Brasil tem { len(deputados) }  deputados.\")"
      ],
      "execution_count": null,
      "outputs": [
        {
          "output_type": "stream",
          "text": [
            "O Brasil tem 513  deputados.\n"
          ],
          "name": "stdout"
        }
      ]
    },
    {
      "cell_type": "code",
      "metadata": {
        "colab": {
          "base_uri": "https://localhost:8080/"
        },
        "id": "x7guBLShHBsJ",
        "outputId": "f2709bcb-f6ee-4e0e-c9fd-3cfa6ceac34b"
      },
      "source": [
        "print(\"O Brasil tem %d deputados\" % (len(deputados)))"
      ],
      "execution_count": null,
      "outputs": [
        {
          "output_type": "stream",
          "text": [
            "O Brasil tem 513 deputados\n"
          ],
          "name": "stdout"
        }
      ]
    },
    {
      "cell_type": "code",
      "metadata": {
        "colab": {
          "base_uri": "https://localhost:8080/"
        },
        "id": "UICgJjtpLOJc",
        "outputId": "7961341a-6ad4-4e43-ff17-1855f1cc496a"
      },
      "source": [
        "print(deputados[0].keys())"
      ],
      "execution_count": null,
      "outputs": [
        {
          "output_type": "stream",
          "text": [
            "dict_keys(['id', 'uri', 'nome', 'siglaPartido', 'uriPartido', 'siglaUf', 'idLegislatura', 'urlFoto', 'email'])\n"
          ],
          "name": "stdout"
        }
      ]
    },
    {
      "cell_type": "code",
      "metadata": {
        "colab": {
          "base_uri": "https://localhost:8080/"
        },
        "id": "_R2DpX5AI-a_",
        "outputId": "db09bb5c-a665-4d5c-88fa-cc65afe97623"
      },
      "source": [
        "# Paulo Ramos, PDT, RJ\n",
        "# Paulo Teixeira, PT, SP\n",
        "# ...\n",
        "\n",
        "deputados = data['dados']\n",
        "for deputado in deputados:\n",
        "    if deputado['siglaUf'] == 'RJ':\n",
        "        print(f\"{deputado['nome']}, {deputado['siglaPartido']}, {deputado['siglaUf']}, {deputado['email']}\")"
      ],
      "execution_count": null,
      "outputs": [
        {
          "output_type": "stream",
          "text": [
            "Alessandro Molon, PSB, RJ, dep.alessandromolon@camara.leg.br\n",
            "Altineu Côrtes, PL, RJ, dep.altineucortes@camara.leg.br\n",
            "Aureo Ribeiro, SOLIDARIEDADE, RJ, dep.aureoribeiro@camara.leg.br\n",
            "Benedita da Silva, PT, RJ, dep.beneditadasilva@camara.leg.br\n",
            "Carlos Jordy, PSL, RJ, dep.carlosjordy@camara.leg.br\n",
            "Chico D'Angelo, PDT, RJ, dep.chicodangelo@camara.leg.br\n",
            "Chiquinho Brazão, AVANTE, RJ, dep.chiquinhobrazao@camara.leg.br\n",
            "Chris Tonietto, PSL, RJ, dep.christonietto@camara.leg.br\n",
            "Christino Aureo, PP, RJ, dep.christinoaureo@camara.leg.br\n",
            "Clarissa Garotinho, PROS, RJ, dep.clarissagarotinho@camara.leg.br\n",
            "Daniel Silveira, PSL, RJ, dep.danielsilveira@camara.leg.br\n",
            "Daniela do Waguinho, MDB, RJ, dep.danieladowaguinho@camara.leg.br\n",
            "David Miranda, PSOL, RJ, dep.davidmiranda@camara.leg.br\n",
            "Delegado Antônio Furtado, PSL, RJ, dep.delegadoantoniofurtado@camara.leg.br\n",
            "Dr. Luiz Antonio Teixeira Jr., PP, RJ, dep.dr.luizantonioteixeirajr@camara.leg.br\n",
            "Felício Laterça, PSL, RJ, dep.feliciolaterca@camara.leg.br\n",
            "Flordelis, PSD, RJ, dep.flordelis@camara.leg.br\n",
            "Gelson Azevedo, PL, RJ, dep.gelsonazevedo@camara.leg.br\n",
            "Glauber Braga, PSOL, RJ, dep.glauberbraga@camara.leg.br\n",
            "Gurgel, PSL, RJ, dep.gurgel@camara.leg.br\n",
            "Gutemberg Reis, MDB, RJ, dep.gutembergreis@camara.leg.br\n",
            "Helio Lopes, PSL, RJ, dep.heliolopes@camara.leg.br\n",
            "Hugo Leal, PSD, RJ, dep.hugoleal@camara.leg.br\n",
            "Jandira Feghali, PCdoB, RJ, dep.jandirafeghali@camara.leg.br\n",
            "Jorge Braz, REPUBLICANOS, RJ, dep.jorgebraz@camara.leg.br\n",
            "Juninho do Pneu, DEM, RJ, dep.juninhodopneu@camara.leg.br\n",
            "Lourival Gomes, PSL, RJ, dep.lourivalgomes@camara.leg.br\n",
            "Luiz Antônio Corrêa, PL, RJ, dep.luizantoniocorrea@camara.leg.br\n",
            "Luiz Lima, PSL, RJ, dep.luizlima@camara.leg.br\n",
            "Major Fabiana, PSL, RJ, dep.majorfabiana@camara.leg.br\n",
            "Marcelo Freixo, PSOL, RJ, dep.marcelofreixo@camara.leg.br\n",
            "Márcio Labre, PSL, RJ, dep.marciolabre@camara.leg.br\n",
            "Otavio Leite, PSDB, RJ, dep.otavioleite@camara.leg.br\n",
            "Otoni de Paula, PSC, RJ, dep.otonidepaula@camara.leg.br\n",
            "Paulo Ganime, NOVO, RJ, dep.pauloganime@camara.leg.br\n",
            "Paulo Ramos, PDT, RJ, dep.pauloramos@camara.leg.br\n",
            "Pedro Augusto Palareti, PSD, RJ, dep.pedroaugustopalareti@camara.leg.br\n",
            "Pedro Paulo, DEM, RJ, dep.pedropaulo@camara.leg.br\n",
            "Professor Joziel, PSL, RJ, dep.professorjoziel@camara.leg.br\n",
            "Ricardo da Karol, PSC, RJ, dep.ricardodakarol@camara.leg.br\n",
            "Rodrigo Maia, DEM, RJ, dep.rodrigomaia@camara.leg.br\n",
            "Rosangela Gomes, REPUBLICANOS, RJ, dep.rosangelagomes@camara.leg.br\n",
            "Soraya Santos, PL, RJ, dep.sorayasantos@camara.leg.br\n",
            "Sóstenes Cavalcante, DEM, RJ, dep.sostenescavalcante@camara.leg.br\n",
            "Talíria Petrone, PSOL, RJ, dep.taliriapetrone@camara.leg.br\n",
            "Vinicius Farah, MDB, RJ, dep.viniciusfarah@camara.leg.br\n"
          ],
          "name": "stdout"
        }
      ]
    },
    {
      "cell_type": "markdown",
      "metadata": {
        "id": "zi3QUPUTL_oS"
      },
      "source": [
        "# Legislatura anterior"
      ]
    },
    {
      "cell_type": "code",
      "metadata": {
        "id": "yBHJhaSRJxDQ"
      },
      "source": [
        "URL_LEGISLATURA_ANTERIOR = \"https://dadosabertos.camara.leg.br/api/v2/deputados?idLegislatura=55&ordem=ASC&ordenarPor=nome\"\n",
        "response = requests.get(URL_LEGISLATURA_ANTERIOR)\n",
        "data_legislatura_anterior = response.json()"
      ],
      "execution_count": null,
      "outputs": []
    },
    {
      "cell_type": "code",
      "metadata": {
        "colab": {
          "base_uri": "https://localhost:8080/"
        },
        "id": "u6Vuw48QMQAW",
        "outputId": "9f56795e-6413-4e3d-f71a-913af31248e3"
      },
      "source": [
        "deputados_legislatura_anterior = data_legislatura_anterior['dados']\n",
        "for deputado in deputados_legislatura_anterior:\n",
        "    if deputado['siglaUf'] == 'RJ':\n",
        "        print(f\"{deputado['nome']}, {deputado['siglaPartido']}, {deputado['siglaUf']}, {deputado['email']}\")"
      ],
      "execution_count": null,
      "outputs": [
        {
          "output_type": "stream",
          "text": [
            "ALESSANDRO MOLON, PSB, RJ, dep.alessandromolon@camara.leg.br\n",
            "ALEXANDRE SERFIOTIS, PSD, RJ, None\n",
            "ALEXANDRE VALLE, PR, RJ, None\n",
            "ALTINEU CÔRTES, PR, RJ, dep.altineucortes@camara.leg.br\n",
            "ANDREIA ZITO, PSDB, RJ, None\n",
            "AROLDE DE OLIVEIRA, PSD, RJ, None\n",
            "ÁTILA A. NUNES, MDB, RJ, None\n",
            "AUREO, SOLIDARIEDADE, RJ, dep.aureo@camara.leg.br\n",
            "BENEDITA DA SILVA, PT, RJ, dep.beneditadasilva@camara.leg.br\n",
            "CABO DACIOLO, PATRI, RJ, None\n",
            "CELSO JACOB, MDB, RJ, None\n",
            "CELSO PANSERA, PT, RJ, None\n",
            "CHICO ALENCAR, PSOL, RJ, None\n",
            "CHICO D'ANGELO, PDT, RJ, dep.chicodangelo@camara.leg.br\n",
            "CLARISSA GAROTINHO, PROS, RJ, dep.clarissagarotinho@camara.leg.br\n",
            "CRISTIANE BRASIL, PTB, RJ, None\n",
            "DEJORGE PATRÍCIO, PRB, RJ, None\n",
            "DELEY, PTB, RJ, None\n",
            "DR. JOÃO, PR, RJ, None\n",
            "EDUARDO CUNHA, MDB, RJ, None\n",
            "EZEQUIEL TEIXEIRA, PODE, RJ, None\n",
            "FABIANO HORTA, PT, RJ, None\n",
            "FELIPE BORNIER, PROS, RJ, None\n",
            "FERNANDO JORDÃO, MDB, RJ, None\n",
            "FRANCISCO FLORIANO, DEM, RJ, None\n",
            "GLAUBER BRAGA, PSOL, RJ, dep.glauberbraga@camara.leg.br\n",
            "HUGO LEAL, PSD, RJ, dep.hugoleal@camara.leg.br\n",
            "INDIO DA COSTA, PSD, RJ, None\n",
            "JAIR BOLSONARO, PSL, RJ, None\n",
            "JANDIRA FEGHALI, PCdoB, RJ, dep.jandirafeghali@camara.leg.br\n",
            "JEAN WYLLYS, PSOL, RJ, None\n",
            "JULIO LOPES, PP, RJ, None\n",
            "LAURA CARNEIRO, DEM, RJ, None\n",
            "LEONARDO PICCIANI, MDB, RJ, None\n",
            "LOURIVAL GOMES, PODE, RJ, dep.lourivalgomes@camara.leg.br\n",
            "LUIZ CARLOS RAMOS, PR, RJ, None\n",
            "LUIZ SÉRGIO, PT, RJ, None\n",
            "MARCELO DELAROLI, PR, RJ, None\n",
            "MARCELO MATOS, PSD, RJ, None\n",
            "MARCO ANTÔNIO CABRAL, MDB, RJ, None\n",
            "MARCOS SOARES, DEM, RJ, None\n",
            "MARQUINHO MENDES, MDB, RJ, None\n",
            "MIRO TEIXEIRA, REDE, RJ, None\n",
            "NELSON NAHIM, PSD, RJ, None\n",
            "OTAVIO LEITE, PSDB, RJ, dep.otavioleite@camara.leg.br\n",
            "PAULO FEIJÓ, PR, RJ, None\n",
            "PEDRO PAULO, DEM, RJ, dep.pedropaulo@camara.leg.br\n",
            "ROBERTO SALES, DEM, RJ, None\n",
            "RODRIGO MAIA, DEM, RJ, dep.rodrigomaia@camara.leg.br\n",
            "ROSANGELA GOMES, PRB, RJ, dep.rosangelagomes@camara.leg.br\n",
            "SERGIO ZVEITER, DEM, RJ, None\n",
            "SIMÃO SESSIM, PP, RJ, None\n",
            "SORAYA SANTOS, PR, RJ, dep.sorayasantos@camara.leg.br\n",
            "SÓSTENES CAVALCANTE, DEM, RJ, dep.sostenescavalcante@camara.leg.br\n",
            "WADIH DAMOUS, PT, RJ, None\n",
            "WALNEY ROCHA, PATRI, RJ, None\n",
            "WASHINGTON REIS, MDB, RJ, None\n",
            "WILSON BESERRA, MDB, RJ, None\n",
            "ZÉ AUGUSTO NALIN, DEM, RJ, None\n"
          ],
          "name": "stdout"
        }
      ]
    },
    {
      "cell_type": "markdown",
      "metadata": {
        "id": "tIVuFTOUNJwc"
      },
      "source": [
        "# Olhar os candidatos que foram reeleitos no Rio de Janeiro"
      ]
    },
    {
      "cell_type": "code",
      "metadata": {
        "id": "SFxU1YxcMZyu"
      },
      "source": [
        "deputados_rj_atual = []\n",
        "deputados_rj_anterior = []\n",
        "\n",
        "# Criar lista com o nome dos deputados atuais\n",
        "for deputado in deputados:\n",
        "    if deputado['siglaUf'] == 'RJ':\n",
        "        deputados_rj_atual.append(deputado['nome'].upper())\n",
        "\n",
        "# Criar lista com o nome dos deputados anteriores\n",
        "\n",
        "for deputado in deputados_legislatura_anterior:\n",
        "    if deputado['siglaUf'] == 'RJ':\n",
        "        deputados_rj_anterior.append(deputado['nome'].upper())"
      ],
      "execution_count": null,
      "outputs": []
    },
    {
      "cell_type": "code",
      "metadata": {
        "colab": {
          "base_uri": "https://localhost:8080/"
        },
        "id": "-ZdNnjdINfQb",
        "outputId": "74f44767-534b-4156-9c9f-adb9b4c92268"
      },
      "source": [
        "reeleitos = []\n",
        "\n",
        "for deputado in deputados_rj_atual:\n",
        "    if deputado in deputados_rj_anterior:\n",
        "        reeleitos.append(deputado)\n",
        "\n",
        "print(f'No Rio de Janeiro foram reeleitos {len(reeleitos)} deputados')"
      ],
      "execution_count": null,
      "outputs": [
        {
          "output_type": "stream",
          "text": [
            "No Rio de Janeiro foram reeleitos 15 deputados\n"
          ],
          "name": "stdout"
        }
      ]
    },
    {
      "cell_type": "markdown",
      "metadata": {
        "id": "z5KJveaUPQz2"
      },
      "source": [
        "# Olhar os candidatos que foram reeleitos escolhendo o estado"
      ]
    },
    {
      "cell_type": "code",
      "metadata": {
        "id": "LuCCkaTIP1YR"
      },
      "source": [
        "deputados_atual = []\r\n",
        "deputados_anterior = []\r\n",
        "UF = 'RS'\r\n",
        "\r\n",
        "# Criar lista com o nome dos deputados atuais\r\n",
        "for deputado in deputados:\r\n",
        "    \r\n",
        "        deputados_atual.append(deputado['nome', 'siglaUF'].upper())\r\n",
        "\r\n",
        "# Criar lista com o nome dos deputados anteriores\r\n",
        "\r\n",
        "for deputado in deputados_legislatura_anterior:\r\n",
        "    \r\n",
        "        deputados_anterior.append(deputado['nome', 'siglaUF'].upper())\r\n",
        "\r\n",
        "reeleitos = []\r\n",
        "\r\n",
        "for deputado in deputados_atual:\r\n",
        "    if deputado in deputados_anterior:\r\n",
        "        reeleitos.append(deputado)\r\n",
        "\r\n",
        "print(f'Na unidade federativa {UF} foram reeleitos {len(reeleitos)} deputados')"
      ],
      "execution_count": null,
      "outputs": []
    },
    {
      "cell_type": "code",
      "metadata": {
        "id": "HhdeugtvaR3y"
      },
      "source": [
        ""
      ],
      "execution_count": null,
      "outputs": []
    }
  ]
}